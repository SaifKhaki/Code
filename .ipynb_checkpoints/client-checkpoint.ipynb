{
 "cells": [
  {
   "cell_type": "code",
   "execution_count": 27,
   "metadata": {},
   "outputs": [],
   "source": [
    "import socket\n",
    "import psutil as p\n",
    "import yaml\n",
    "import os\n",
    "import pynvml\n",
    "import threading\n",
    "import speedtest\n",
    "import math\n",
    "# ML Specific\n",
    "import pandas as pd\n",
    "import numpy as np\n"
   ]
  },
  {
   "cell_type": "code",
   "execution_count": 28,
   "metadata": {},
   "outputs": [],
   "source": [
    "# Read YAML file\n",
    "with open(\"config.yaml\", 'r') as stream:\n",
    "    config_loaded = yaml.safe_load(stream)\n",
    "    \n",
    "######################################## Connections ################################\n",
    "# format: [(ip,port,connection)i] for i=onode_count\n",
    "onodes_connections = []\n",
    "# format: connection_object\n",
    "snode_connection = None\n",
    "server_connection = None\n",
    "    \n",
    "# Connecting to server's ip address\n",
    "server_connection = socket.socket()\n",
    "host = config_loaded[\"server\"][\"ip\"]\n",
    "port = config_loaded[\"server\"][\"port\"]\n",
    "o_nodes_count = config_loaded[\"kazaa\"][\"o_node_per\"]"
   ]
  },
  {
   "cell_type": "code",
   "execution_count": 29,
   "metadata": {},
   "outputs": [
    {
     "name": "stdout",
     "output_type": "stream",
     "text": [
      "Waiting for connection response\n",
      "Connected\n"
     ]
    }
   ],
   "source": [
    "# Global Fields\n",
    "status = ''\n",
    "onodes = []\n",
    "onodes_threads = [None]*o_nodes_count\n",
    "snodes = []\n",
    "self_kazaa_constant = 0\n",
    "onodes_kazaa_constant = [0]*o_nodes_count\n",
    "\n",
    "username = input(\"Input your username: \")\n",
    "print('Waiting for connection response')\n",
    "try:\n",
    "    server_connection.connect((host, port))\n",
    "    print(\"Connected\")\n",
    "except socket.error as e:\n",
    "    print(str(e))"
   ]
  },
  {
   "cell_type": "code",
   "execution_count": 30,
   "metadata": {},
   "outputs": [
    {
     "name": "stdout",
     "output_type": "stream",
     "text": [
      "All defined perfectly\n"
     ]
    }
   ],
   "source": [
    "# socket send consistent method \n",
    "# it sends the string, waits for the length of string client received, compares this length to the actual length. If both are equal\n",
    "# it sends ack else, it resends the same txt again.\n",
    "def socket_send(connection, txt):\n",
    "    ack = False\n",
    "    print(\">>sending\",txt+\"...\")\n",
    "    while(not ack):\n",
    "        connection.send(str.encode(txt))\n",
    "        len_txt = int(connection.recv(1024).decode('utf-8'))\n",
    "        if len_txt == len(txt):\n",
    "            connection.send(str.encode(\"ack\"))\n",
    "            ack = True\n",
    "        else:\n",
    "            connection.send(str.encode(\"resending\"))\n",
    "\n",
    "# socket receive consistent method \n",
    "# it receives the string, then sends its size back to the server and then it waits for an acknowledgement, If ack is received it \n",
    "# breaks out of the loop\n",
    "def socket_rcv(connection, size=1024):\n",
    "    ack = False\n",
    "    while(not ack):\n",
    "        txt = connection.recv(size).decode('utf-8')\n",
    "        connection.send(str.encode(str(len(txt))))\n",
    "        ack = True if connection.recv(size).decode('utf-8') == \"ack\" else False\n",
    "    print(\">>received\", txt+\"...\")\n",
    "    return txt\n",
    "\n",
    "def memory():\n",
    "    mem = p.virtual_memory()\n",
    "    return (mem.total, mem.available)\n",
    "\n",
    "def cpu():\n",
    "    return (100-p.cpu_percent(), p.cpu_count(logical=True))\n",
    "\n",
    "def gpu_memory():\n",
    "    try:\n",
    "        pynvml.nvmlInit()\n",
    "        # 1 here is the GPU id\n",
    "        handle = pynvml.nvmlDeviceGetHandleByIndex(1)\n",
    "        meminfo = pynvml.nvmlDeviceGetMemoryInfo(handle)\n",
    "        return meminfo.free\n",
    "    except:\n",
    "        return 0\n",
    "\n",
    "def download_speed():\n",
    "    try:\n",
    "        st = speedtest.Speedtest()\n",
    "        return st.download()/8\n",
    "    except:\n",
    "        return 0\n",
    "   \n",
    "def receive_rows(connection):\n",
    "    print(\"starting receiving rows\")\n",
    "    row_count_str = socket_rcv(connection)\n",
    "    if row_count_str.startswith(\"rcv:\"):\n",
    "        row_count = int(row_count_str[len(\"rcv:\"):])\n",
    "        headers = socket_rcv(connection)[len(\"rcv:\"):].split(\":\")\n",
    "        print(\"row_count:\", row_count, \"headers:\", headers)\n",
    "        data = []\n",
    "        for i in range(row_count):\n",
    "            data_rcvd = socket_rcv(connection, 32768)\n",
    "            while(data_rcvd.count(\":\") > 3):\n",
    "                socket_send(connection, \"resend\")\n",
    "                data_rcvd = socket_rcv(connection, 32768)\n",
    "            data.append(data_rcvd.split(\":\"))\n",
    "            socket_send(connection, \"rcvd\")\n",
    "            print(\"Rcvd row:\", data[-1][:-1])\n",
    "    return pd.DataFrame(data, columns=headers)\n",
    "\n",
    "def send_rows_onode(connection, df, division, index, headers):\n",
    "    start = division[index - 1] if index > 0 else 0\n",
    "    end = division[index]\n",
    "    socket_send(connection, \"rcv:\"+str(end - start))\n",
    "    socket_send(connection, \"rcv:\"+headers)\n",
    "    for i, row in df[end:start].iterrows():\n",
    "        socket_send(connection, str(row[0])+\":\"+str(row[1])+\":\"+str(row[2])+\":\"+str(row[3]))\n",
    "        ack = socket_rcv(connection)\n",
    "        while(ack != \"rcvd\"):\n",
    "            socket_send(connection, str(row[0])+\":\"+str(row[1])+\":\"+str(row[2])+\":\"+str(row[3]))\n",
    "            ack = socket_rcv(connection)\n",
    "\n",
    "def ensemble_distribution():\n",
    "    # receive data from server\n",
    "    df = receive_rows(server_connection)\n",
    "    print(\"data rcvd from server for\",df.shape[0],\"rows with headers:\\n\",df.columns)\n",
    "    division = []\n",
    "    for i in onodes_kazaa_constant:\n",
    "        division.append(math.ceil((df.shape[0]*i)/sum(onodes_kazaa_constant)))\n",
    "    # also adding self division\n",
    "    division.append((df.shape[0]*self_kazaa_constant)/sum(onodes_kazaa_constant))\n",
    "    division = list(np.cumsum(division))\n",
    "    # headers\n",
    "    headers = \":\".join(list(df.columns))\n",
    "    \n",
    "    # data for regional ordinary nodes\n",
    "    index = 0\n",
    "    print(\"Sending data...\")\n",
    "    for onode_connection in onodes_connections:\n",
    "        send_rows_onode(onode_connection[2], df, division, index, headers)\n",
    "        print(\"Sent all data to\", onode_connection[0], \"at port\", onode_connection[1])\n",
    "        index += 1\n",
    "        \n",
    "    # data for yourself\n",
    "    df = df[division[-2]:division[-1]]\n",
    "            \n",
    "# here snode is sender and onode is receiver\n",
    "def snode_onode_socket(connection, id):\n",
    "    print(\"Waiting for kazaa_constant of\",id,\"ordinary node.\")\n",
    "    onodes_kazaa_constant[id] = float(socket_rcv(connection)[len(\"k_const:\"):])\n",
    "    \n",
    "    if((id+1) == o_nodes_count):\n",
    "        ensemble_distribution()\n",
    "        \n",
    "# here onode is sender and snode is receiver\n",
    "def onode_snode_socket(connection):\n",
    "    socket_send(connection, \"k_const:\"+str(self_kazaa_constant))\n",
    "    df = receive_rows(connection)\n",
    "    print(\"df received from supernode of my region has shape: \", df.shape)\n",
    " \n",
    "def send_system_info():\n",
    "    messages_to_send = 5\n",
    "    socket_send(server_connection, \"rcv:\"+str(messages_to_send))\n",
    "    # download speed in bytes\n",
    "    socket_send(server_connection, \"dsp:\"+str(download_speed()))\n",
    "    # available GPU ram in bytes\n",
    "    socket_send(server_connection, \"gpu:\"+str(gpu_memory()))\n",
    "    # available ram in bytes\n",
    "    socket_send(server_connection, \"ram:\"+str(memory()[1]))\n",
    "    # cpu free in percentage\n",
    "    socket_send(server_connection, \"cpu:\"+str(cpu()[0]))\n",
    "    # cpu cores in count\n",
    "    socket_send(server_connection, \"cor:\"+str(cpu()[1]))\n",
    "print(\"All defined perfectly\")\n",
    "   "
   ]
  },
  {
   "cell_type": "code",
   "execution_count": 31,
   "metadata": {},
   "outputs": [
    {
     "name": "stdout",
     "output_type": "stream",
     "text": [
      ">>received Server is working:...\n",
      "Server is working:\n",
      "\n",
      "//////////////////////////////////////// waiting for ack ////////////////////////////////////////\n",
      ">>sending rcv:5...\n",
      ">>sending dsp:1395920.8413602603...\n",
      ">>sending gpu:0...\n",
      ">>sending ram:9749917696...\n",
      ">>sending cpu:77.3...\n",
      ">>sending cor:4...\n"
     ]
    }
   ],
   "source": [
    "# first check response received i.e \"Server is working\"\n",
    "res = socket_rcv(server_connection)\n",
    "print(res)\n",
    "\n",
    "# sending system info\n",
    "print(\"\\n\" + \"/\"*40 + \" waiting for ack \" + \"/\"*40)\n",
    "send_system_info()\n"
   ]
  },
  {
   "cell_type": "code",
   "execution_count": 32,
   "metadata": {},
   "outputs": [
    {
     "name": "stdout",
     "output_type": "stream",
     "text": [
      ">>received ack: received following system info:  \n",
      "Download_speed = 1395920.8413602603B \n",
      "Free_GPU_RAM = 0.0B \n",
      "Free_RAM = 9749917696.0B \n",
      "Free_CPU = 77.3 \n",
      "CPU_Cores = 4...\n",
      "ack: received following system info:  \n",
      "Download_speed = 1395920.8413602603B \n",
      "Free_GPU_RAM = 0.0B \n",
      "Free_RAM = 9749917696.0B \n",
      "Free_CPU = 77.3 \n",
      "CPU_Cores = 4\n"
     ]
    }
   ],
   "source": [
    "# receive acknowledge\n",
    "res = socket_rcv(server_connection)\n",
    "print(res)"
   ]
  },
  {
   "cell_type": "code",
   "execution_count": null,
   "metadata": {},
   "outputs": [],
   "source": []
  }
 ],
 "metadata": {
  "interpreter": {
   "hash": "31f2aee4e71d21fbe5cf8b01ff0e069b9275f58929596ceb00d14d90e3e16cd6"
  },
  "kernelspec": {
   "display_name": "Python 3",
   "language": "python",
   "name": "python3"
  },
  "language_info": {
   "codemirror_mode": {
    "name": "ipython",
    "version": 3
   },
   "file_extension": ".py",
   "mimetype": "text/x-python",
   "name": "python",
   "nbconvert_exporter": "python",
   "pygments_lexer": "ipython3",
   "version": "3.8.5"
  }
 },
 "nbformat": 4,
 "nbformat_minor": 2
}
