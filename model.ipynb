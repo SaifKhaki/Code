{
 "metadata": {
  "language_info": {
   "codemirror_mode": {
    "name": "ipython",
    "version": 3
   },
   "file_extension": ".py",
   "mimetype": "text/x-python",
   "name": "python",
   "nbconvert_exporter": "python",
   "pygments_lexer": "ipython3",
   "version": "3.8.5"
  },
  "orig_nbformat": 4,
  "kernelspec": {
   "name": "python3",
   "display_name": "Python 3.8.5 64-bit"
  },
  "interpreter": {
   "hash": "31f2aee4e71d21fbe5cf8b01ff0e069b9275f58929596ceb00d14d90e3e16cd6"
  }
 },
 "nbformat": 4,
 "nbformat_minor": 2,
 "cells": [
  {
   "cell_type": "code",
   "execution_count": 52,
   "metadata": {},
   "outputs": [],
   "source": [
    "import numpy as np\n",
    "import pandas as pd\n",
    "from sklearn.model_selection import train_test_split\n",
    "df = pd.read_csv('spam_ham_dataset.csv')\n"
   ]
  },
  {
   "cell_type": "code",
   "execution_count": 53,
   "metadata": {},
   "outputs": [],
   "source": [
    "from nltk.tokenize import RegexpTokenizer\n",
    "\n",
    "def clean_str(string, reg = RegexpTokenizer(r'[a-z]+')):\n",
    "    string = string.lower()\n",
    "    tokens = reg.tokenize(string)\n",
    "    return \" \".join(tokens)\n",
    "\n",
    "df['text_clean'] = df['text'].apply(lambda string: clean_str(string))\n",
    "del df['text']\n",
    "df = df[:2000]"
   ]
  },
  {
   "cell_type": "code",
   "execution_count": 60,
   "metadata": {},
   "outputs": [
    {
     "output_type": "execute_result",
     "data": {
      "text/plain": [
       "4095"
      ]
     },
     "metadata": {},
     "execution_count": 60
    }
   ],
   "source": [
    "str1 = '''        Subject: vocable % rnd - word asceticism\n",
    "vcsc - brand new stock for your attention\n",
    "vocalscape inc - the stock symbol is : vcsc\n",
    "vcsc will be our top stock pick for the month of april - stock expected to\n",
    "bounce to 12 cents level\n",
    "the stock hit its all time low and will bounce back\n",
    "stock is going to explode in next 5 days - watch it soar\n",
    "watch the stock go crazy this and next week .\n",
    "breaking news - vocalscape inc . announces agreement to resell mix network\n",
    "services\n",
    "current price : $ 0 . 025\n",
    "we expect projected speculative price in next 5 days : $ 0 . 12\n",
    "we expect projected speculative price in next 15 days : $ 0 . 15\n",
    "vocalscape networks inc . is building a company that ' s revolutionizing the\n",
    "telecommunications industry with the most affordable phone systems , hardware ,\n",
    "online software , and rates in canada and the us . vocalscape , a company with\n",
    "global reach , is receiving international attention for the development of voice\n",
    "over ip ( voip ) application solutions , including the award - winning eyefontm , a\n",
    "softphone for real - time pc - to - phone . we are an advanced implementer of pbx\n",
    "systems for companies , call centers , itsps and service providers .\n",
    "vocalscape has created software and interactive solutions revolving around\n",
    "global communications and data voice convergence . companies use vocalscape for\n",
    "voice over internet protocol applications like ip pbxs , softswitches , pc 2 phone\n",
    "and web 2 phone , providing real - time human interaction and information delivery\n",
    "over the internet . through vocalscape ' s solutions , businesses can offer a\n",
    "quality voice service to anywhere in the world at rates that are significantly\n",
    "lower than current long distance charges . we develop software to run voip\n",
    "networks , and sell , install and service our own branded voip gateways and\n",
    "gatekeeper control software . we also license our software to customers who want\n",
    "to brand their own voip solutions .\n",
    "vocalscape is committed to making great technology ; challenging the status quo ,\n",
    "and building a 21 st century company that changes the way businesses communicate\n",
    "and interact through the internet .\n",
    "current price : $ 0 . 025\n",
    "we expect projected speculative price in next 5 days : $ 0 . 12\n",
    "we expect projected speculative price in next 15 days : $ 0 . 15\n",
    "breaking news - vocalscape inc . announces agreement to resell mix network\n",
    "services\n",
    "- - - - - - - - - -\n",
    "katonah , n . y . , / prnewswire - firstcall via comtex / - - vocalscape , inc . pink : vcsc ) ,\n",
    "an emerging leader in the development of voice over internet protocol ( voip )\n",
    "telephony solutions , announced today it has entered into a sales agent agreement\n",
    "with mix networks , inc . a voip enhanced telephony service provider .\n",
    "this agreement provides vocalscape ' s turnkey calling card customers with access\n",
    "to mix networks services including north american dids ( phone numbers ) and\n",
    "domestic long distance termination . vocalscape will also be able to supply their\n",
    "clients with enhanced voip products including pre - paid calling through mix\n",
    "networks north american network .\n",
    "we are excited to help companies launch voip business models using our solution\n",
    "with the whole picture from the software to the network needed to route the\n",
    "calls . mix networks gives us the ability to offer wholesale monthly flat rate\n",
    "plans and dids to our clients that allow for us to build business models like\n",
    "popular voip companies such as vonage and packet 8 , says ryan gibson , vp\n",
    "vocalscape networks\n",
    "some legal words before you continue :\n",
    "information within this email contains forward looking statements within the\n",
    "meaning of section 27 a of the securities act of 1933 and section 21 b of the\n",
    "securities exchange act of 1934 . any statements that express or involve\n",
    "discussions with respect to predictions , goals , expectations , beliefs , plans ,\n",
    "projections , objectives , assumptions or future events or performance are not\n",
    "statements of historical fact and may be forward looking statements . forward\n",
    "looking statements are based on expectations , estimates and projections at the\n",
    "time the statements are made that involve a number of risks and uncertainties\n",
    "which could cause actual results or events to differ materially from those\n",
    "presently anticipated . forward looking statements in this action may be\n",
    "identified through the use of words such as : projects , foresee , expects ,\n",
    "estimates , believes , understands will , part of : anticipate\n",
    "'''\n",
    "len(str.encode(clean_str(str1)))\n"
   ]
  },
  {
   "cell_type": "code",
   "execution_count": 48,
   "metadata": {},
   "outputs": [
    {
     "output_type": "execute_result",
     "data": {
      "text/plain": [
       "[3, 4, 5]"
      ]
     },
     "metadata": {},
     "execution_count": 48
    }
   ],
   "source": [
    "[1,2,3,4,5][2:9]"
   ]
  },
  {
   "cell_type": "code",
   "execution_count": 29,
   "metadata": {},
   "outputs": [],
   "source": [
    "# Convert a collection of text documents to a matrix of token counts\n",
    "from sklearn.feature_extraction.text import CountVectorizer\n",
    "cv = CountVectorizer()\n",
    "X = cv.fit_transform(df.text_clean)\n",
    "\n",
    "# Get the categories\n",
    "y = df.label\n",
    "\n",
    "# Split arrays or matrices into random train and test subsets\n",
    "X_train, X_test, y_train, y_test = train_test_split(X, y, test_size=0.2, random_state=0)"
   ]
  },
  {
   "cell_type": "code",
   "execution_count": 30,
   "metadata": {},
   "outputs": [
    {
     "output_type": "stream",
     "name": "stdout",
     "text": [
      "Accuracy:  96.0\n"
     ]
    }
   ],
   "source": [
    "# Find the best hyperparameter with GridSearchCV\n",
    "# Exhaustive search over specified parameter values for an estimator.\n",
    "from sklearn.naive_bayes import MultinomialNB\n",
    "from sklearn.model_selection import GridSearchCV\n",
    "parameters = {\"alpha\": [0.2,1,2,5,10], \"fit_prior\": [True, False]}\n",
    "\n",
    "grid = GridSearchCV(MultinomialNB(), param_grid=parameters)\n",
    "grid.fit(X_train,y_train)\n",
    "\n",
    "# Create a DataFrame with the best Hyperparameters\n",
    "pd.DataFrame(grid.cv_results_)[['params','mean_test_score']]\\\n",
    "                               .sort_values(by=\"mean_test_score\", ascending=False)\n",
    "\n",
    "# Create the model with the best hyperparameters\n",
    "from sklearn.naive_bayes import MultinomialNB\n",
    "alpha, fit_prior = grid.best_params_['alpha'], grid.best_params_['fit_prior']\n",
    "model = MultinomialNB(alpha = alpha)\n",
    "\n",
    "model.fit(X_train,y_train)\n",
    "y_pred = model.predict(X_test)\n",
    "\n",
    "from sklearn.metrics import classification_report, accuracy_score\n",
    "print('Accuracy: ', round(accuracy_score(y_test,y_pred),3)*100)"
   ]
  },
  {
   "cell_type": "code",
   "execution_count": 31,
   "metadata": {},
   "outputs": [
    {
     "output_type": "stream",
     "name": "stdout",
     "text": [
      "              precision    recall  f1-score   support\n\n         ham       0.98      0.97      0.97       306\n        spam       0.90      0.94      0.92        94\n\n    accuracy                           0.96       400\n   macro avg       0.94      0.95      0.95       400\nweighted avg       0.96      0.96      0.96       400\n\n"
     ]
    }
   ],
   "source": [
    "print(classification_report(y_test,y_pred))"
   ]
  },
  {
   "cell_type": "code",
   "execution_count": null,
   "metadata": {},
   "outputs": [],
   "source": []
  },
  {
   "cell_type": "code",
   "execution_count": null,
   "metadata": {},
   "outputs": [],
   "source": []
  }
 ]
}